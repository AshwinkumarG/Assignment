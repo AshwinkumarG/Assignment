{
  "nbformat": 4,
  "nbformat_minor": 0,
  "metadata": {
    "colab": {
      "name": "G.Ashwin.ipynb",
      "provenance": [],
      "authorship_tag": "ABX9TyNW0eSFaeuMTPa41klVEXJx",
      "include_colab_link": true
    },
    "kernelspec": {
      "name": "python3",
      "display_name": "Python 3"
    }
  },
  "cells": [
    {
      "cell_type": "markdown",
      "metadata": {
        "id": "view-in-github",
        "colab_type": "text"
      },
      "source": [
        "<a href=\"https://colab.research.google.com/github/AshwinkumarG/Assignment_1/blob/master/G_Ashwin.ipynb\" target=\"_parent\"><img src=\"https://colab.research.google.com/assets/colab-badge.svg\" alt=\"Open In Colab\"/></a>"
      ]
    },
    {
      "cell_type": "markdown",
      "metadata": {
        "id": "QC_yO4vn-zyf",
        "colab_type": "text"
      },
      "source": [
        ""
      ]
    },
    {
      "cell_type": "markdown",
      "metadata": {
        "id": "uQgZ3BNF-oKV",
        "colab_type": "text"
      },
      "source": [
        "*Write a python program to design simple calculator for the operators +, -, multiplication, /, %, **, //"
      ]
    },
    {
      "cell_type": "code",
      "metadata": {
        "id": "YWuRoxOX7K_U",
        "colab_type": "code",
        "colab": {
          "base_uri": "https://localhost:8080/",
          "height": 181
        },
        "outputId": "7ec39a9b-cdb8-44ab-b4ab-a435fe05006e"
      },
      "source": [
        "num1= int(input(\"Enter a number: \"))\n",
        "num2= int(input(\"Enter another number: \"))\n",
        "add= num1+num2\n",
        "sub= num1-num2\n",
        "pro= num1*num2\n",
        "div= num1/num2\n",
        "mod= num1%num2\n",
        "power= num1**num2\n",
        "floor_div= num1//num2\n",
        "print(\"The sum is\", add)\n",
        "print(\"The difference is\", sub)\n",
        "print(\"The product is\", pro)\n",
        "print(\"The division is\", div)\n",
        "print(\"The remainder is\", mod)\n",
        "print(\"The power of \", num1, \"to \", num2,  \"is \", power)\n",
        "print(\"The floor division is\", floor_div)"
      ],
      "execution_count": 1,
      "outputs": [
        {
          "output_type": "stream",
          "text": [
            "Enter a number: 13\n",
            "Enter another number: 11\n",
            "The sum is 24\n",
            "The difference is 2\n",
            "The product is 143\n",
            "The division is 1.1818181818181819\n",
            "The remainder is 2\n",
            "The power of  13 to  11 is  1792160394037\n",
            "The floor division is 1\n"
          ],
          "name": "stdout"
        }
      ]
    },
    {
      "cell_type": "markdown",
      "metadata": {
        "id": "B2f7qPXV_K-6",
        "colab_type": "text"
      },
      "source": [
        "Write a python program to calculate the simple interest"
      ]
    },
    {
      "cell_type": "code",
      "metadata": {
        "id": "YmCvyXaj_KhI",
        "colab_type": "code",
        "colab": {
          "base_uri": "https://localhost:8080/",
          "height": 90
        },
        "outputId": "196a8579-fbab-428f-e02c-c7bbc4e353da"
      },
      "source": [
        "principal = float(input(\"Enter the principal amount: \"))\n",
        "time = float(input(\"Enter the time period: \"))\n",
        "rate = float(input(\"Enter the rate of interest: \"))\n",
        "simple_interest= (principal*time*rate)/100\n",
        "print(\"Simple Interest = \", simple_interest)\n"
      ],
      "execution_count": 2,
      "outputs": [
        {
          "output_type": "stream",
          "text": [
            "Enter the principal amount: 300\n",
            "Enter the time period: 3\n",
            "Enter the rate of interest: 2\n",
            "Simple Interest =  18.0\n"
          ],
          "name": "stdout"
        }
      ]
    },
    {
      "cell_type": "markdown",
      "metadata": {
        "id": "OxmRwq4vA0QH",
        "colab_type": "text"
      },
      "source": [
        "Write a python program to calculate area of a circle"
      ]
    },
    {
      "cell_type": "code",
      "metadata": {
        "id": "KoeU72xyA5sF",
        "colab_type": "code",
        "colab": {
          "base_uri": "https://localhost:8080/",
          "height": 54
        },
        "outputId": "a7aa64a1-2e08-49e3-9f4c-aca47a99fc3c"
      },
      "source": [
        "radius= float(input(\"Enter the radius of the circle:\"))\n",
        "PI= 3.1412\n",
        "area= PI*radius*radius\n",
        "print(\"The area of the circle= \",area)"
      ],
      "execution_count": 4,
      "outputs": [
        {
          "output_type": "stream",
          "text": [
            "Enter the radius of the circle:8\n",
            "The area of the circle=  201.0368\n"
          ],
          "name": "stdout"
        }
      ]
    },
    {
      "cell_type": "markdown",
      "metadata": {
        "id": "uD1E16REBfFG",
        "colab_type": "text"
      },
      "source": [
        "Write a python program to find the area of a square"
      ]
    },
    {
      "cell_type": "code",
      "metadata": {
        "id": "dRobOsWNBlyN",
        "colab_type": "code",
        "colab": {
          "base_uri": "https://localhost:8080/",
          "height": 72
        },
        "outputId": "ceaba9c5-db05-4248-ca16-04c2927ec928"
      },
      "source": [
        "base= float(input(\"Enter the base of the triange: \"))\n",
        "height= float(input(\"Enter the height of the triange: \"))\n",
        "tri_area= 0.5*base*height\n",
        "print(\"The area of the triange= \",tri_area)"
      ],
      "execution_count": 5,
      "outputs": [
        {
          "output_type": "stream",
          "text": [
            "Enter the base of the triange: 7\n",
            "Enter the height of the triange: 6\n",
            "The area of the triange=  21.0\n"
          ],
          "name": "stdout"
        }
      ]
    },
    {
      "cell_type": "markdown",
      "metadata": {
        "id": "RIJlKordBzt7",
        "colab_type": "text"
      },
      "source": [
        "Write a python program to convert temperature from celcius to fahrenheit"
      ]
    },
    {
      "cell_type": "code",
      "metadata": {
        "id": "HlJRExaYB48Y",
        "colab_type": "code",
        "colab": {
          "base_uri": "https://localhost:8080/",
          "height": 54
        },
        "outputId": "022403e2-c35c-42bc-b86c-c9db8f3c3616"
      },
      "source": [
        "celsius= float(input(\"Enter temp in Celsius: \"))\n",
        "fahrenheit = (celsius * 9/5) + 32\n",
        "print(\"Temperature in Fahrenheit is: \", fahrenheit)\n"
      ],
      "execution_count": 6,
      "outputs": [
        {
          "output_type": "stream",
          "text": [
            "Enter temp in Celsius: 35\n",
            "Temperature in Fahrenheit is:  95.0\n"
          ],
          "name": "stdout"
        }
      ]
    },
    {
      "cell_type": "markdown",
      "metadata": {
        "id": "-KzRNgSMCD_c",
        "colab_type": "text"
      },
      "source": [
        "Write a python program to calculate the area of a rectangle"
      ]
    },
    {
      "cell_type": "code",
      "metadata": {
        "id": "NaKOf5HACCS6",
        "colab_type": "code",
        "colab": {
          "base_uri": "https://localhost:8080/",
          "height": 72
        },
        "outputId": "793e0956-551a-428b-a740-b3af26e49479"
      },
      "source": [
        "length= float(input(\"Enter the length: \"))\n",
        "breadth= float(input(\"Enter the breadth: \"))\n",
        "area_rect= length*breadth\n",
        "print(\"Area of the rectange is: \",area_rect)"
      ],
      "execution_count": 7,
      "outputs": [
        {
          "output_type": "stream",
          "text": [
            "Enter the length: 3\n",
            "Enter the breadth: 7\n",
            "Area of the rectange is:  21.0\n"
          ],
          "name": "stdout"
        }
      ]
    },
    {
      "cell_type": "markdown",
      "metadata": {
        "id": "hJEOpdCXCTRw",
        "colab_type": "text"
      },
      "source": [
        "Write a python program to calculate the perimeter of a square"
      ]
    },
    {
      "cell_type": "code",
      "metadata": {
        "id": "Gn8d0IBiCXjI",
        "colab_type": "code",
        "colab": {
          "base_uri": "https://localhost:8080/",
          "height": 54
        },
        "outputId": "915b233f-bb3d-4bc7-f782-137c37c50149"
      },
      "source": [
        "side= float(input(\"Enter the side of the square: \"))\n",
        "perimeter= 4*side\n",
        "print(\"Perimeter of the square= \",perimeter)"
      ],
      "execution_count": 8,
      "outputs": [
        {
          "output_type": "stream",
          "text": [
            "Enter the side of the square: 4\n",
            "Perimeter of the square=  16.0\n"
          ],
          "name": "stdout"
        }
      ]
    },
    {
      "cell_type": "markdown",
      "metadata": {
        "id": "F8T6VRYkCeeV",
        "colab_type": "text"
      },
      "source": [
        "Write a python program to calculate the circumference of a circle"
      ]
    },
    {
      "cell_type": "code",
      "metadata": {
        "id": "GtaUYGemChkf",
        "colab_type": "code",
        "colab": {
          "base_uri": "https://localhost:8080/",
          "height": 54
        },
        "outputId": "3501b15d-c4b1-42ca-8701-b03e5e71c5bd"
      },
      "source": [
        "rad= float(input(\"Enter the radius of the circle: \"))\n",
        "circumference= 2*3.14*rad\n",
        "print(\"Circumference of the circle= \",circumference)"
      ],
      "execution_count": 9,
      "outputs": [
        {
          "output_type": "stream",
          "text": [
            "Enter the radius of the circle: 4\n",
            "Circumference of the circle=  25.12\n"
          ],
          "name": "stdout"
        }
      ]
    },
    {
      "cell_type": "markdown",
      "metadata": {
        "id": "hCEFrWZECuta",
        "colab_type": "text"
      },
      "source": [
        "Write a python program to swap two numbers"
      ]
    },
    {
      "cell_type": "code",
      "metadata": {
        "id": "XHNL1KmVCzA8",
        "colab_type": "code",
        "colab": {
          "base_uri": "https://localhost:8080/",
          "height": 90
        },
        "outputId": "86fe9f38-705f-4ad4-8ecc-90b1f5252b33"
      },
      "source": [
        "a= int(input(\"Enter a number: \"))\n",
        "b= int(input(\"Enter another number: \"))\n",
        "print(\"Numbers before swapping are:(a,b)= \", a,b)\n",
        "a= a+b\n",
        "b= a-b\n",
        "a= a-b\n",
        "print(\"Swapped numbers are:(a,b)= \",a,b)"
      ],
      "execution_count": 10,
      "outputs": [
        {
          "output_type": "stream",
          "text": [
            "Enter a number: 51\n",
            "Enter another number: 91\n",
            "Numbers before swapping are:(a,b)=  51 91\n",
            "Swapped numbers are:(a,b)=  91 51\n"
          ],
          "name": "stdout"
        }
      ]
    }
  ]
}