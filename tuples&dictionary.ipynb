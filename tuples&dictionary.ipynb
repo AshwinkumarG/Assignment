{
  "nbformat": 4,
  "nbformat_minor": 0,
  "metadata": {
    "colab": {
      "name": "assignment.ipynb",
      "provenance": [],
      "authorship_tag": "ABX9TyMo2mRzftm03RQAFWyiv4kd",
      "include_colab_link": true
    },
    "kernelspec": {
      "name": "python3",
      "display_name": "Python 3"
    }
  },
  "cells": [
    {
      "cell_type": "markdown",
      "metadata": {
        "id": "view-in-github",
        "colab_type": "text"
      },
      "source": [
        "<a href=\"https://colab.research.google.com/github/AshwinkumarG/Assignment/blob/master/assignment.ipynb\" target=\"_parent\"><img src=\"https://colab.research.google.com/assets/colab-badge.svg\" alt=\"Open In Colab\"/></a>"
      ]
    },
    {
      "cell_type": "markdown",
      "metadata": {
        "id": "_uzdrNl-f-MQ",
        "colab_type": "text"
      },
      "source": [
        "1)What is dictionary in python?Explain with an example.\n",
        "\n",
        "\n",
        "A)Dictionary is a mutable data type in python.a python dictionary is a collection of key and value pairs seperated by a colour. "
      ]
    },
    {
      "cell_type": "code",
      "metadata": {
        "id": "bv20eFcmfD5A",
        "colab_type": "code",
        "colab": {
          "base_uri": "https://localhost:8080/",
          "height": 51
        },
        "outputId": "5cbd6994-748d-4597-bcfd-ffb4c3fc5471"
      },
      "source": [
        "mydict={'stuName':'Ashwin','stuAge':'19','stuCity':'bangalore'}\n",
        "print(\"student age is:\",mydict['stuAge'])\n",
        "print(\"student city is:\",mydict['stuCity'])"
      ],
      "execution_count": 2,
      "outputs": [
        {
          "output_type": "stream",
          "text": [
            "student age is: 19\n",
            "student city is: bangalore\n"
          ],
          "name": "stdout"
        }
      ]
    },
    {
      "cell_type": "markdown",
      "metadata": {
        "id": "w5y9AN5ihihZ",
        "colab_type": "text"
      },
      "source": [
        "2)Write a python program to sum all the items in a list."
      ]
    },
    {
      "cell_type": "code",
      "metadata": {
        "id": "oPDL58xNhuCB",
        "colab_type": "code",
        "colab": {
          "base_uri": "https://localhost:8080/",
          "height": 34
        },
        "outputId": "bed8a542-f185-4630-db57-17dad7a72bf6"
      },
      "source": [
        "def sum_list(items):\n",
        "  sum_numbers=0\n",
        "  for x in items:\n",
        "    sum_numbers+=x\n",
        "  return sum_numbers\n",
        "print(sum_list([16,21,-34]))    "
      ],
      "execution_count": 3,
      "outputs": [
        {
          "output_type": "stream",
          "text": [
            "3\n"
          ],
          "name": "stdout"
        }
      ]
    },
    {
      "cell_type": "markdown",
      "metadata": {
        "id": "acWWpNb9iNWf",
        "colab_type": "text"
      },
      "source": [
        "3)Write a python program to to create a list of empty dictionaries."
      ]
    },
    {
      "cell_type": "code",
      "metadata": {
        "id": "OLN1kQxBiZn2",
        "colab_type": "code",
        "colab": {
          "base_uri": "https://localhost:8080/",
          "height": 129
        },
        "outputId": "a34dba7d-f9ca-4978-ce3d-838c3ba1d641"
      },
      "source": [
        "a =6\n",
        "l =[() for_in range(a)]:\n",
        "print(l) "
      ],
      "execution_count": 12,
      "outputs": [
        {
          "output_type": "error",
          "ename": "SyntaxError",
          "evalue": "ignored",
          "traceback": [
            "\u001b[0;36m  File \u001b[0;32m\"<ipython-input-12-10fb74b4fd26>\"\u001b[0;36m, line \u001b[0;32m2\u001b[0m\n\u001b[0;31m    l =[() for_in range(a)]:\u001b[0m\n\u001b[0m                ^\u001b[0m\n\u001b[0;31mSyntaxError\u001b[0m\u001b[0;31m:\u001b[0m invalid syntax\n"
          ]
        }
      ]
    },
    {
      "cell_type": "markdown",
      "metadata": {
        "id": "lg0CeOKVjfuf",
        "colab_type": "text"
      },
      "source": [
        "4)Write a python program to access dictionary keys element by index."
      ]
    },
    {
      "cell_type": "code",
      "metadata": {
        "id": "rdRt_AUWjwqq",
        "colab_type": "code",
        "colab": {
          "base_uri": "https://localhost:8080/",
          "height": 180
        },
        "outputId": "b8bc6528-9759-42d9-dca2-e3c7c1126d2b"
      },
      "source": [
        "num={'physics':'87','math':'84','java':'89'}\n",
        "print(list(num[1]))"
      ],
      "execution_count": 15,
      "outputs": [
        {
          "output_type": "error",
          "ename": "KeyError",
          "evalue": "ignored",
          "traceback": [
            "\u001b[0;31m---------------------------------------------------------------------------\u001b[0m",
            "\u001b[0;31mKeyError\u001b[0m                                  Traceback (most recent call last)",
            "\u001b[0;32m<ipython-input-15-d9725df540b1>\u001b[0m in \u001b[0;36m<module>\u001b[0;34m()\u001b[0m\n\u001b[1;32m      1\u001b[0m \u001b[0mnum\u001b[0m\u001b[0;34m=\u001b[0m\u001b[0;34m{\u001b[0m\u001b[0;34m'physics'\u001b[0m\u001b[0;34m:\u001b[0m\u001b[0;34m'87'\u001b[0m\u001b[0;34m,\u001b[0m\u001b[0;34m'math'\u001b[0m\u001b[0;34m:\u001b[0m\u001b[0;34m'84'\u001b[0m\u001b[0;34m,\u001b[0m\u001b[0;34m'java'\u001b[0m\u001b[0;34m:\u001b[0m\u001b[0;34m'89'\u001b[0m\u001b[0;34m}\u001b[0m\u001b[0;34m\u001b[0m\u001b[0;34m\u001b[0m\u001b[0m\n\u001b[0;32m----> 2\u001b[0;31m \u001b[0mprint\u001b[0m\u001b[0;34m(\u001b[0m\u001b[0mlist\u001b[0m\u001b[0;34m(\u001b[0m\u001b[0mnum\u001b[0m\u001b[0;34m[\u001b[0m\u001b[0;36m1\u001b[0m\u001b[0;34m]\u001b[0m\u001b[0;34m)\u001b[0m\u001b[0;34m)\u001b[0m\u001b[0;34m\u001b[0m\u001b[0;34m\u001b[0m\u001b[0m\n\u001b[0m",
            "\u001b[0;31mKeyError\u001b[0m: 1"
          ]
        }
      ]
    },
    {
      "cell_type": "markdown",
      "metadata": {
        "id": "XjQukxJqkXqG",
        "colab_type": "text"
      },
      "source": [
        "5)Write a python program to iterate over dictionaries using for loops."
      ]
    },
    {
      "cell_type": "code",
      "metadata": {
        "id": "BlnTCZqCkicC",
        "colab_type": "code",
        "colab": {
          "base_uri": "https://localhost:8080/",
          "height": 129
        },
        "outputId": "6d263eb3-30a9-4c39-e86e-1ef94f15b7a9"
      },
      "source": [
        "d={'red':4,'green':5,'blue':2}\n",
        "for color_key value in d.items():\n",
        "  print(color_key,'corresponds to',d[color_key])"
      ],
      "execution_count": 16,
      "outputs": [
        {
          "output_type": "error",
          "ename": "SyntaxError",
          "evalue": "ignored",
          "traceback": [
            "\u001b[0;36m  File \u001b[0;32m\"<ipython-input-16-179345637522>\"\u001b[0;36m, line \u001b[0;32m2\u001b[0m\n\u001b[0;31m    for color_key value in d.items():\u001b[0m\n\u001b[0m                      ^\u001b[0m\n\u001b[0;31mSyntaxError\u001b[0m\u001b[0;31m:\u001b[0m invalid syntax\n"
          ]
        }
      ]
    },
    {
      "cell_type": "markdown",
      "metadata": {
        "id": "dfX_g_splNJs",
        "colab_type": "text"
      },
      "source": [
        "6)Write a python program to sum all the items in a dictionary."
      ]
    },
    {
      "cell_type": "code",
      "metadata": {
        "id": "ppElrXLalYUe",
        "colab_type": "code",
        "colab": {
          "base_uri": "https://localhost:8080/",
          "height": 34
        },
        "outputId": "a27bc9c6-b8fd-46f9-da7e-b7edece855f1"
      },
      "source": [
        "my_dict={'num1':10,'num2':20,'num3':30}\n",
        "print(sum(my_dict.values()))"
      ],
      "execution_count": 18,
      "outputs": [
        {
          "output_type": "stream",
          "text": [
            "60\n"
          ],
          "name": "stdout"
        }
      ]
    },
    {
      "cell_type": "markdown",
      "metadata": {
        "id": "HW50VPnTl6bY",
        "colab_type": "text"
      },
      "source": [
        "7)Write a python script to concatenate following dictionaries to create a new one."
      ]
    },
    {
      "cell_type": "code",
      "metadata": {
        "id": "6EgLbu6ImPRH",
        "colab_type": "code",
        "colab": {}
      },
      "source": [
        "dic1={1:10,2:20}\n",
        "dic2={3:30,4:40}\n",
        "dic3={5:50,6:60}\n",
        "dic4={}\n",
        "for d in (dic1,dic2,dic3):dic4.update(d)\n",
        "print(dic4)"
      ],
      "execution_count": null,
      "outputs": []
    },
    {
      "cell_type": "markdown",
      "metadata": {
        "id": "Rjka1omzmqgv",
        "colab_type": "text"
      },
      "source": [
        "8)Write a python program to create a tuple."
      ]
    },
    {
      "cell_type": "code",
      "metadata": {
        "id": "qKmf1ruimx2C",
        "colab_type": "code",
        "colab": {
          "base_uri": "https://localhost:8080/",
          "height": 34
        },
        "outputId": "227944f5-6cbf-460c-b85b-0ae2fa46aba9"
      },
      "source": [
        "x=()\n",
        "print(x)"
      ],
      "execution_count": 19,
      "outputs": [
        {
          "output_type": "stream",
          "text": [
            "()\n"
          ],
          "name": "stdout"
        }
      ]
    },
    {
      "cell_type": "markdown",
      "metadata": {
        "id": "jZ5xdo_Cm5mJ",
        "colab_type": "text"
      },
      "source": [
        "9)Write a python to create a tuple with different datatypes."
      ]
    },
    {
      "cell_type": "code",
      "metadata": {
        "id": "hHLPDZcZnEBR",
        "colab_type": "code",
        "colab": {
          "base_uri": "https://localhost:8080/",
          "height": 34
        },
        "outputId": "8b6c1049-28de-4561-e07f-cc39e133a2df"
      },
      "source": [
        "tuplex=(\"tuple\",True,2.1,9)\n",
        "print(tuplex)"
      ],
      "execution_count": 22,
      "outputs": [
        {
          "output_type": "stream",
          "text": [
            "('tuple', True, 2.1, 9)\n"
          ],
          "name": "stdout"
        }
      ]
    },
    {
      "cell_type": "markdown",
      "metadata": {
        "id": "oeF27qV_naoH",
        "colab_type": "text"
      },
      "source": [
        "10)Write a python program to convert a tuple to a string."
      ]
    },
    {
      "cell_type": "code",
      "metadata": {
        "id": "kRbwYSBFnizz",
        "colab_type": "code",
        "colab": {
          "base_uri": "https://localhost:8080/",
          "height": 34
        },
        "outputId": "14dbfc46-3f3a-4876-9917-de3dd4f32e7e"
      },
      "source": [
        "tup=('A','s','h','w','i','n')\n",
        "str=''.join(tup)\n",
        "print(str)"
      ],
      "execution_count": 24,
      "outputs": [
        {
          "output_type": "stream",
          "text": [
            "Ashwin\n"
          ],
          "name": "stdout"
        }
      ]
    },
    {
      "cell_type": "markdown",
      "metadata": {
        "id": "tcs4ntsmn8pv",
        "colab_type": "text"
      },
      "source": [
        "11)Write a python program to slice a tuple."
      ]
    },
    {
      "cell_type": "code",
      "metadata": {
        "id": "dEtSSMUzoElQ",
        "colab_type": "code",
        "colab": {
          "base_uri": "https://localhost:8080/",
          "height": 34
        },
        "outputId": "e2c19683-e864-46a6-ceff-4813595b2cfa"
      },
      "source": [
        "tuplex=('p','y','t','h','o','n')\n",
        "_slice=tuplex[1:]\n",
        "print(_slice)"
      ],
      "execution_count": 25,
      "outputs": [
        {
          "output_type": "stream",
          "text": [
            "('y', 't', 'h', 'o', 'n')\n"
          ],
          "name": "stdout"
        }
      ]
    },
    {
      "cell_type": "markdown",
      "metadata": {
        "id": "8OjbAdn2ofZo",
        "colab_type": "text"
      },
      "source": [
        "12)Write a python program to find length of a tuple."
      ]
    },
    {
      "cell_type": "code",
      "metadata": {
        "id": "PwuxerwEonJ6",
        "colab_type": "code",
        "colab": {
          "base_uri": "https://localhost:8080/",
          "height": 51
        },
        "outputId": "4b873fb0-79f4-47b8-e3a7-04bea595b5e3"
      },
      "source": [
        "tuples=tuple(\"python\")\n",
        "print(tuplex)\n",
        "print(len(tuplex))"
      ],
      "execution_count": 26,
      "outputs": [
        {
          "output_type": "stream",
          "text": [
            "('p', 'y', 't', 'h', 'o', 'n')\n",
            "6\n"
          ],
          "name": "stdout"
        }
      ]
    },
    {
      "cell_type": "markdown",
      "metadata": {
        "id": "xg4ZLiwkowXf",
        "colab_type": "text"
      },
      "source": [
        "13)Write a python program to convert a tuple to a dictionary."
      ]
    },
    {
      "cell_type": "code",
      "metadata": {
        "id": "AKKDl-qXo4ZX",
        "colab_type": "code",
        "colab": {
          "base_uri": "https://localhost:8080/",
          "height": 34
        },
        "outputId": "66501f92-7eac-41f1-b486-edafe8b97ba9"
      },
      "source": [
        "tuplex=((1,\"A\"),(3,\"h\"))\n",
        "print(dict((y,x)for x,y in tuplex))"
      ],
      "execution_count": 27,
      "outputs": [
        {
          "output_type": "stream",
          "text": [
            "{'A': 1, 'h': 3}\n"
          ],
          "name": "stdout"
        }
      ]
    },
    {
      "cell_type": "markdown",
      "metadata": {
        "id": "_NPl6e99pSF9",
        "colab_type": "text"
      },
      "source": [
        "14)Write a python program to reverse a tuple."
      ]
    },
    {
      "cell_type": "code",
      "metadata": {
        "id": "mfQeW04upYG0",
        "colab_type": "code",
        "colab": {
          "base_uri": "https://localhost:8080/",
          "height": 34
        },
        "outputId": "721171e7-2e79-4d69-9a55-c6e1a539adba"
      },
      "source": [
        "x=(5,15,25,35)\n",
        "y=reversed(x)\n",
        "print(tuple(y))"
      ],
      "execution_count": 29,
      "outputs": [
        {
          "output_type": "stream",
          "text": [
            "(35, 25, 15, 5)\n"
          ],
          "name": "stdout"
        }
      ]
    },
    {
      "cell_type": "markdown",
      "metadata": {
        "id": "TUWlDVhvpwdG",
        "colab_type": "text"
      },
      "source": [
        "15)Write a python program to convert a list of tuples in to a dictionary."
      ]
    },
    {
      "cell_type": "code",
      "metadata": {
        "id": "q5gDQwOmp7B8",
        "colab_type": "code",
        "colab": {
          "base_uri": "https://localhost:8080/",
          "height": 231
        },
        "outputId": "132f6efb-2aa0-489e-9840-992a1f072a6d"
      },
      "source": [
        "l=[(\"A\",1),(\"s\",2),(\"h\",3),(\"w\",4),(\"i\",5)(\"n\",6)]\n",
        "d={}\n",
        "for a,b in l:\n",
        "   d.setdefault(a,[]).append(b)\n",
        "print(d)"
      ],
      "execution_count": 30,
      "outputs": [
        {
          "output_type": "error",
          "ename": "TypeError",
          "evalue": "ignored",
          "traceback": [
            "\u001b[0;31m---------------------------------------------------------------------------\u001b[0m",
            "\u001b[0;31mTypeError\u001b[0m                                 Traceback (most recent call last)",
            "\u001b[0;32m<ipython-input-30-98896699ccc1>\u001b[0m in \u001b[0;36m<module>\u001b[0;34m()\u001b[0m\n\u001b[0;32m----> 1\u001b[0;31m \u001b[0ml\u001b[0m\u001b[0;34m=\u001b[0m\u001b[0;34m[\u001b[0m\u001b[0;34m(\u001b[0m\u001b[0;34m\"A\"\u001b[0m\u001b[0;34m,\u001b[0m\u001b[0;36m1\u001b[0m\u001b[0;34m)\u001b[0m\u001b[0;34m,\u001b[0m\u001b[0;34m(\u001b[0m\u001b[0;34m\"s\"\u001b[0m\u001b[0;34m,\u001b[0m\u001b[0;36m2\u001b[0m\u001b[0;34m)\u001b[0m\u001b[0;34m,\u001b[0m\u001b[0;34m(\u001b[0m\u001b[0;34m\"h\"\u001b[0m\u001b[0;34m,\u001b[0m\u001b[0;36m3\u001b[0m\u001b[0;34m)\u001b[0m\u001b[0;34m,\u001b[0m\u001b[0;34m(\u001b[0m\u001b[0;34m\"w\"\u001b[0m\u001b[0;34m,\u001b[0m\u001b[0;36m4\u001b[0m\u001b[0;34m)\u001b[0m\u001b[0;34m,\u001b[0m\u001b[0;34m(\u001b[0m\u001b[0;34m\"i\"\u001b[0m\u001b[0;34m,\u001b[0m\u001b[0;36m5\u001b[0m\u001b[0;34m)\u001b[0m\u001b[0;34m(\u001b[0m\u001b[0;34m\"n\"\u001b[0m\u001b[0;34m,\u001b[0m\u001b[0;36m6\u001b[0m\u001b[0;34m)\u001b[0m\u001b[0;34m]\u001b[0m\u001b[0;34m\u001b[0m\u001b[0;34m\u001b[0m\u001b[0m\n\u001b[0m\u001b[1;32m      2\u001b[0m \u001b[0md\u001b[0m\u001b[0;34m=\u001b[0m\u001b[0;34m{\u001b[0m\u001b[0;34m}\u001b[0m\u001b[0;34m\u001b[0m\u001b[0;34m\u001b[0m\u001b[0m\n\u001b[1;32m      3\u001b[0m \u001b[0;32mfor\u001b[0m \u001b[0ma\u001b[0m\u001b[0;34m,\u001b[0m\u001b[0mb\u001b[0m \u001b[0;32min\u001b[0m \u001b[0ml\u001b[0m\u001b[0;34m:\u001b[0m\u001b[0;34m\u001b[0m\u001b[0;34m\u001b[0m\u001b[0m\n\u001b[1;32m      4\u001b[0m    \u001b[0md\u001b[0m\u001b[0;34m.\u001b[0m\u001b[0msetdefault\u001b[0m\u001b[0;34m(\u001b[0m\u001b[0ma\u001b[0m\u001b[0;34m,\u001b[0m\u001b[0;34m[\u001b[0m\u001b[0;34m]\u001b[0m\u001b[0;34m)\u001b[0m\u001b[0;34m.\u001b[0m\u001b[0mappend\u001b[0m\u001b[0;34m(\u001b[0m\u001b[0mb\u001b[0m\u001b[0;34m)\u001b[0m\u001b[0;34m\u001b[0m\u001b[0;34m\u001b[0m\u001b[0m\n\u001b[1;32m      5\u001b[0m \u001b[0mprint\u001b[0m\u001b[0;34m(\u001b[0m\u001b[0md\u001b[0m\u001b[0;34m)\u001b[0m\u001b[0;34m\u001b[0m\u001b[0;34m\u001b[0m\u001b[0m\n",
            "\u001b[0;31mTypeError\u001b[0m: 'tuple' object is not callable"
          ]
        }
      ]
    },
    {
      "cell_type": "markdown",
      "metadata": {
        "id": "b_PIj0C1-j0v",
        "colab_type": "text"
      },
      "source": [
        "16)Write a python program to convert a list to a tuple."
      ]
    },
    {
      "cell_type": "code",
      "metadata": {
        "id": "879xNCpC_D6B",
        "colab_type": "code",
        "colab": {
          "base_uri": "https://localhost:8080/",
          "height": 34
        },
        "outputId": "060eaf71-c529-4d25-e886-5bd6d3f16668"
      },
      "source": [
        "listx=[21,12,31,7,16]\n",
        "tuplex=tuple(listx)\n",
        "print(tuplex)"
      ],
      "execution_count": 31,
      "outputs": [
        {
          "output_type": "stream",
          "text": [
            "(21, 12, 31, 7, 16)\n"
          ],
          "name": "stdout"
        }
      ]
    },
    {
      "cell_type": "code",
      "metadata": {
        "id": "wqwM2ebx-s2M",
        "colab_type": "code",
        "colab": {}
      },
      "source": [
        ""
      ],
      "execution_count": null,
      "outputs": []
    }
  ]
}
