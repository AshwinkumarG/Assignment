{
  "nbformat": 4,
  "nbformat_minor": 0,
  "metadata": {
    "colab": {
      "name": "strings.ipynb",
      "provenance": [],
      "authorship_tag": "ABX9TyOAZCGB+LxLx0bpJFW0/l7S",
      "include_colab_link": true
    },
    "kernelspec": {
      "name": "python3",
      "display_name": "Python 3"
    }
  },
  "cells": [
    {
      "cell_type": "markdown",
      "metadata": {
        "id": "view-in-github",
        "colab_type": "text"
      },
      "source": [
        "<a href=\"https://colab.research.google.com/github/AshwinkumarG/Assignment/blob/master/strings.ipynb\" target=\"_parent\"><img src=\"https://colab.research.google.com/assets/colab-badge.svg\" alt=\"Open In Colab\"/></a>"
      ]
    },
    {
      "cell_type": "markdown",
      "metadata": {
        "id": "zjBPwzB2ZsGn",
        "colab_type": "text"
      },
      "source": [
        "1)Write a python program to calculate the length of a string."
      ]
    },
    {
      "cell_type": "code",
      "metadata": {
        "id": "Wa7kIuYzY3qI",
        "colab_type": "code",
        "colab": {
          "base_uri": "https://localhost:8080/",
          "height": 51
        },
        "outputId": "3580c3ce-4db1-409e-a052-e14920adb27d"
      },
      "source": [
        "str=input(\"Enter the string:\")\n",
        "print(\"Length of the string is:\",len(str))"
      ],
      "execution_count": 2,
      "outputs": [
        {
          "output_type": "stream",
          "text": [
            "Enter the string:python programming\n",
            "Length of the string is: 18\n"
          ],
          "name": "stdout"
        }
      ]
    },
    {
      "cell_type": "markdown",
      "metadata": {
        "id": "P5quDpnpZis1",
        "colab_type": "text"
      },
      "source": [
        "2)Write a python program to count the number of characters in a string."
      ]
    },
    {
      "cell_type": "code",
      "metadata": {
        "id": "8D94EeaUaivG",
        "colab_type": "code",
        "colab": {}
      },
      "source": [
        "def char_frequency(str1):\n",
        "  dict={ }\n",
        "  for n in str1:\n",
        "    keys=dict.keys()\n",
        "    if n in keys:\n",
        "      dict[n]+=1\n",
        "    else:\n",
        "      dict[n]=1\n",
        "    return dict\n",
        "    print(char_frequency(\"google.com\"))  "
      ],
      "execution_count": 8,
      "outputs": []
    },
    {
      "cell_type": "markdown",
      "metadata": {
        "id": "R68UpNOVbexr",
        "colab_type": "text"
      },
      "source": [
        "3)Write a python program to get a single string from two given strings,seperated by a space and swap the first two characters of each string."
      ]
    },
    {
      "cell_type": "code",
      "metadata": {
        "id": "AnJoOJ4mb344",
        "colab_type": "code",
        "colab": {}
      },
      "source": [
        "def chars_mix_up(a,b):\n",
        "  new_a=b[:2]+a[2:]\n",
        "  new_b=a[:2]+b[2:]\n",
        "  return new_a+' '+new_b\n",
        "  print(chars_mix_up('abc','xyz'))"
      ],
      "execution_count": 11,
      "outputs": []
    },
    {
      "cell_type": "markdown",
      "metadata": {
        "id": "Zw2A44iqcrL_",
        "colab_type": "text"
      },
      "source": [
        "4)Write a python script that takes input from the user and displays that inpuy back in upper and lower cases."
      ]
    },
    {
      "cell_type": "code",
      "metadata": {
        "id": "W0q0DwzNc8q2",
        "colab_type": "code",
        "colab": {
          "base_uri": "https://localhost:8080/",
          "height": 68
        },
        "outputId": "3267e0dc-884f-48f2-a7c1-18d5756d3b6d"
      },
      "source": [
        "user_input=input(\"What is your name?\")\n",
        "print(\"My name is:\",user_input.upper())\n",
        "print(\"My name is:\",user_input.lower())"
      ],
      "execution_count": 12,
      "outputs": [
        {
          "output_type": "stream",
          "text": [
            "What is your name?Ashwin\n",
            "My name is: ASHWIN\n",
            "My name is: ashwin\n"
          ],
          "name": "stdout"
        }
      ]
    },
    {
      "cell_type": "markdown",
      "metadata": {
        "id": "wC06rdyqdbkm",
        "colab_type": "text"
      },
      "source": [
        "5)Write a python program to remove a newline in python."
      ]
    },
    {
      "cell_type": "code",
      "metadata": {
        "id": "omgp5WR9djH0",
        "colab_type": "code",
        "colab": {
          "base_uri": "https://localhost:8080/",
          "height": 68
        },
        "outputId": "fdfa4e57-ad2b-450d-dfad-d698b529c571"
      },
      "source": [
        "str1='python Programming\\n'\n",
        "print(str1)\n",
        "print(str1.rstrip())"
      ],
      "execution_count": 14,
      "outputs": [
        {
          "output_type": "stream",
          "text": [
            "python Programming\n",
            "\n",
            "python Programming\n"
          ],
          "name": "stdout"
        }
      ]
    },
    {
      "cell_type": "markdown",
      "metadata": {
        "id": "CVnTIM5ad0x-",
        "colab_type": "text"
      },
      "source": [
        "6)Write a python program to count occurences of a substring in a string."
      ]
    },
    {
      "cell_type": "code",
      "metadata": {
        "id": "jHM_PpTKd98v",
        "colab_type": "code",
        "colab": {
          "base_uri": "https://localhost:8080/",
          "height": 68
        },
        "outputId": "c66df883-f7fa-4625-e251-aa34a0947c76"
      },
      "source": [
        "str1='she sells sea shells on the sea shore.'\n",
        "print()\n",
        "print(str1.count(\"sea\"))\n",
        "print()"
      ],
      "execution_count": 15,
      "outputs": [
        {
          "output_type": "stream",
          "text": [
            "\n",
            "2\n",
            "\n"
          ],
          "name": "stdout"
        }
      ]
    },
    {
      "cell_type": "markdown",
      "metadata": {
        "id": "XlokCd1LeUYf",
        "colab_type": "text"
      },
      "source": [
        "7)Write a python program to convert a string in a list."
      ]
    },
    {
      "cell_type": "code",
      "metadata": {
        "id": "Y2dhq61XegdV",
        "colab_type": "code",
        "colab": {
          "base_uri": "https://localhost:8080/",
          "height": 34
        },
        "outputId": "5ed9f939-76b6-4480-9f40-319f372db8e8"
      },
      "source": [
        "str1='football,cricket,basketball'\n",
        "print('list of items={str1.split(\",\"}')"
      ],
      "execution_count": 21,
      "outputs": [
        {
          "output_type": "stream",
          "text": [
            "list of items={str1.split(\",\"}\n"
          ],
          "name": "stdout"
        }
      ]
    },
    {
      "cell_type": "markdown",
      "metadata": {
        "id": "E97u6T3PfS_h",
        "colab_type": "text"
      },
      "source": [
        "9)Write a python program to print every character of a string entered by user in a new line using loop"
      ]
    },
    {
      "cell_type": "code",
      "metadata": {
        "id": "LHKLBEWUfag1",
        "colab_type": "code",
        "colab": {
          "base_uri": "https://localhost:8080/",
          "height": 136
        },
        "outputId": "86219c94-6470-4f2a-d58b-093fdc63058c"
      },
      "source": [
        "x=input(\"Enter the string:\")\n",
        "for i in x:\n",
        "  print(i)"
      ],
      "execution_count": 23,
      "outputs": [
        {
          "output_type": "stream",
          "text": [
            "Enter the string:python\n",
            "p\n",
            "y\n",
            "t\n",
            "h\n",
            "o\n",
            "n\n"
          ],
          "name": "stdout"
        }
      ]
    },
    {
      "cell_type": "markdown",
      "metadata": {
        "id": "DdbJjXLkfqxm",
        "colab_type": "text"
      },
      "source": [
        "10)Write a program to find the length of the string\"refrigirator\"without using len function."
      ]
    },
    {
      "cell_type": "code",
      "metadata": {
        "id": "fklaDugrf2p6",
        "colab_type": "code",
        "colab": {
          "base_uri": "https://localhost:8080/",
          "height": 34
        },
        "outputId": "a9604883-66a3-4440-f201-459e2b9f14ca"
      },
      "source": [
        "a=\"refrigirator\"\n",
        "count=0\n",
        "for i in a:\n",
        "  count=count+1\n",
        "print(count)"
      ],
      "execution_count": 24,
      "outputs": [
        {
          "output_type": "stream",
          "text": [
            "12\n"
          ],
          "name": "stdout"
        }
      ]
    }
  ]
}